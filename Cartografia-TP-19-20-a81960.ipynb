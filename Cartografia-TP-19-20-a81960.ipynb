{
 "cells": [
  {
   "cell_type": "markdown",
   "metadata": {},
   "source": [
    "# Covid19 USA States"
   ]
  },
  {
   "cell_type": "code",
   "execution_count": 1,
   "metadata": {},
   "outputs": [],
   "source": [
    "import sys\n",
    "import os\n",
    "from qgis.core import *\n",
    "from qgis.PyQt.QtGui import *\n",
    "from qgis.PyQt.QtCore import *"
   ]
  },
  {
   "cell_type": "markdown",
   "metadata": {},
   "source": [
    "Starting qgis application"
   ]
  },
  {
   "cell_type": "code",
   "execution_count": 2,
   "metadata": {},
   "outputs": [],
   "source": [
    "QgsApplication.setPrefixPath(r'C:\\\\OSGeo4W64\\\\apps\\\\qgis', True)\n",
    "qgs = QgsApplication([], True)\n",
    "qgs.initQgis()\n",
    "sys.path.append(r'C:\\OSGeo4W64\\apps\\qgis\\python\\plugins')"
   ]
  },
  {
   "cell_type": "code",
   "execution_count": 3,
   "metadata": {},
   "outputs": [],
   "source": [
    "project = QgsProject.instance()"
   ]
  },
  {
   "cell_type": "markdown",
   "metadata": {},
   "source": [
    "Load shapefile of USA States"
   ]
  },
  {
   "cell_type": "code",
   "execution_count": 4,
   "metadata": {},
   "outputs": [],
   "source": [
    "# load map layer\n",
    "usa_path = \"data/usa_states_map/tl_2017_us_state.shp\"\n",
    "usa_layer = QgsVectorLayer(usa_path, 'USA States Map', 'ogr')\n",
    "\n",
    "if not usa_layer.isValid():\n",
    "    print(\"Failed to load the layer!\")\n",
    "else:\n",
    "    project.addMapLayer(usa_layer)"
   ]
  },
  {
   "cell_type": "markdown",
   "metadata": {},
   "source": [
    "Load csv file of covid19 data and create a vector layer"
   ]
  },
  {
   "cell_type": "code",
   "execution_count": 5,
   "metadata": {},
   "outputs": [],
   "source": [
    "dates = ['04-13-2020', '04-20-2020', '04-27-2020']\n",
    "\n",
    "def loadCSVVectorLayer(date):\n",
    "    # load covid-19 numbers 04-13-2020\n",
    "    covid_path = \"file:///E:/TA-Cartografia/data/covid19-usa/{}.csv\".format(date)\n",
    "    layer_name = 'covid{}'.format(date)\n",
    "    covid_layer = QgsVectorLayer(covid_path, layer_name, 'delimitedtext')\n",
    "\n",
    "    if not covid_layer.isValid():\n",
    "        print('Layer failed to load!')\n",
    "    else:\n",
    "        project.addMapLayer(covid_layer)\n",
    "        \n",
    "for date in dates:\n",
    "    loadCSVVectorLayer(date)"
   ]
  },
  {
   "cell_type": "markdown",
   "metadata": {},
   "source": [
    "Join covid layers to usa layer"
   ]
  },
  {
   "cell_type": "code",
   "execution_count": 6,
   "metadata": {},
   "outputs": [],
   "source": [
    "targetField = 'NAME'\n",
    "joinField = 'Province_State'"
   ]
  },
  {
   "cell_type": "code",
   "execution_count": 7,
   "metadata": {},
   "outputs": [],
   "source": [
    "def joinCSVSHPVectorLayers(csv_layer):\n",
    "    joinObject = QgsVectorLayerJoinInfo()\n",
    "    joinObject.setJoinFieldName(joinField)\n",
    "    joinObject.setTargetFieldName(targetField)\n",
    "    joinObject.setJoinLayerId(csv_layer.id())\n",
    "    joinObject.setUsingMemoryCache(True)\n",
    "    joinObject.setJoinLayer(csv_layer)\n",
    "    flag = usa_layer.addJoin(joinObject)\n",
    "    return flag\n",
    "    \n",
    "for date in dates:\n",
    "    layer_name = 'covid{}'.format(date)\n",
    "    csv_layer = project.mapLayersByName(layer_name)[0]\n",
    "    flag = joinCSVSHPVectorLayers(csv_layer)"
   ]
  },
  {
   "cell_type": "markdown",
   "metadata": {},
   "source": [
    "Add new field to the vector layer"
   ]
  },
  {
   "cell_type": "code",
   "execution_count": 8,
   "metadata": {},
   "outputs": [],
   "source": [
    "caps = usa_layer.dataProvider().capabilities()\n",
    "\n",
    "if caps & QgsVectorDataProvider.AddAttributes:\n",
    "    new_fields = [\n",
    "        QgsField(\"d13_20\", QVariant.Int),\n",
    "        QgsField(\"d20_27\", QVariant.Int),\n",
    "        QgsField(\"delta\", QVariant.Int)\n",
    "    ]\n",
    "    res = usa_layer.dataProvider().addAttributes(new_fields)\n",
    "usa_layer.updateFields()"
   ]
  },
  {
   "cell_type": "markdown",
   "metadata": {},
   "source": [
    "Remove features without confirmed cases"
   ]
  },
  {
   "cell_type": "code",
   "execution_count": 9,
   "metadata": {},
   "outputs": [],
   "source": [
    "del_ids = []\n",
    "\n",
    "def removeFeature(conf1, conf2, conf3):\n",
    "    flag1 = conf1 is None or conf1 == 0\n",
    "    flag2 = conf2 is None or conf2 == 0\n",
    "    flag3 = conf3 is None or conf3 == 0\n",
    "    return flag1 or flag2 or flag3\n",
    "\n",
    "if caps & QgsVectorDataProvider.DeleteFeatures:\n",
    "    for feature in usa_layer.getFeatures():\n",
    "        conf1 = feature['covid04-27-2020_Confirmed']\n",
    "        conf2 = feature['covid04-20-2020_Confirmed']\n",
    "        conf3 = feature['covid04-13-2020_Confirmed']\n",
    "        if removeFeature(conf1, conf2, conf3):\n",
    "            del_ids.append(feature.id())\n",
    "    res = usa_layer.dataProvider().deleteFeatures(del_ids)"
   ]
  },
  {
   "cell_type": "markdown",
   "metadata": {},
   "source": [
    "Update delta fields of each feature"
   ]
  },
  {
   "cell_type": "code",
   "execution_count": 10,
   "metadata": {},
   "outputs": [
    {
     "data": {
      "text/plain": [
       "True"
      ]
     },
     "execution_count": 10,
     "metadata": {},
     "output_type": "execute_result"
    }
   ],
   "source": [
    "updateFeat = {}\n",
    "fid1 = usa_layer.fields().indexFromName('d13_20')\n",
    "fid2 = usa_layer.fields().indexFromName('d20_27')\n",
    "fid3 = usa_layer.fields().indexFromName('delta')\n",
    "\n",
    "for feature in usa_layer.getFeatures():\n",
    "    conf13 = feature['covid04-13-2020_Confirmed']\n",
    "    conf20 = feature['covid04-20-2020_Confirmed']\n",
    "    conf27 = feature['covid04-27-2020_Confirmed']\n",
    "    attrs = {}\n",
    "    attrs[fid1] = conf20 - conf13\n",
    "    attrs[fid2] = conf27 - conf20\n",
    "    attrs[fid3] = attrs[fid2] - attrs[fid1]\n",
    "    updateFeat[feature.id()] = attrs\n",
    "usa_layer.dataProvider().changeAttributeValues(updateFeat)"
   ]
  },
  {
   "cell_type": "markdown",
   "metadata": {},
   "source": [
    "Display graph of the number of infected"
   ]
  },
  {
   "cell_type": "code",
   "execution_count": 12,
   "metadata": {},
   "outputs": [],
   "source": [
    "import numpy as np\n",
    "import matplotlib.pyplot as plt"
   ]
  },
  {
   "cell_type": "markdown",
   "metadata": {},
   "source": [
    "Retrieving the data"
   ]
  },
  {
   "cell_type": "code",
   "execution_count": 13,
   "metadata": {},
   "outputs": [],
   "source": [
    "# data\n",
    "states_list = ['California', 'Colorado', 'Minnesota', 'New Jersey', 'New York', 'Texas']\n",
    "delta1 = []\n",
    "delta2 = []\n",
    "states = []\n",
    "\n",
    "for feature in usa_layer.getFeatures():\n",
    "    if feature['NAME'] in states_list:\n",
    "        states.append(feature['NAME'])\n",
    "        delta1.append(feature['d13_20'])\n",
    "        delta2.append(feature['d20_27'])"
   ]
  },
  {
   "cell_type": "code",
   "execution_count": 14,
   "metadata": {},
   "outputs": [
    {
     "data": {
      "image/png": "[encoded data removed]",
      "text/plain": [
       "<Figure size 432x288 with 1 Axes>"
      ]
     },
     "metadata": {
      "needs_background": "light"
     },
     "output_type": "display_data"
    }
   ],
   "source": [
    "# create plot\n",
    "fig, ax = plt.subplots()\n",
    "index = np.arange(len(delta1))\n",
    "bar_width = 0.35\n",
    "\n",
    "rects1 = plt.bar(index, delta1, bar_width, label='delta 13/20')\n",
    "\n",
    "rects2 = plt.bar(index + bar_width, delta2, bar_width, label='delta 20/27')\n",
    "\n",
    "plt.xlabel('US States')\n",
    "plt.ylabel('New infected')\n",
    "plt.title('New infected by state')\n",
    "plt.xticks(index + bar_width, tuple(states))\n",
    "plt.legend()\n",
    "\n",
    "plt.tight_layout()\n",
    "plt.show()"
   ]
  },
  {
   "cell_type": "markdown",
   "metadata": {},
   "source": [
    "Image of the evolution of new infected"
   ]
  },
  {
   "cell_type": "code",
   "execution_count": 15,
   "metadata": {},
   "outputs": [
    {
     "name": "stderr",
     "output_type": "stream",
     "text": [
      "C:\\OSGEO4~1\\apps\\Python37\\lib\\site-packages\\ipykernel_launcher.py:15: DeprecationWarning: QgsGraduatedSymbolRenderer.setMode() is deprecated\n",
      "  from ipykernel import kernelapp as app\n"
     ]
    }
   ],
   "source": [
    "target_field = 'delta'\n",
    "myRangeList = []\n",
    "\n",
    "symbol = QgsSymbol.defaultSymbol(usa_layer.geometryType())     \n",
    "symbol.setColor(QColor(22, 22, 222))                              \n",
    "myRange = QgsRendererRange(-11111111, 0, symbol, 'New infecteds are lower')\n",
    "myRangeList.append(myRange)\n",
    "\n",
    "symbol = QgsSymbol.defaultSymbol(usa_layer.geometryType())\n",
    "symbol.setColor(QColor(222, 22, 2))\n",
    "myRange = QgsRendererRange(1, 5000000, symbol, 'New infecteds are higher')\n",
    "myRangeList.append(myRange)\n",
    "\n",
    "myRenderer = QgsGraduatedSymbolRenderer(target_field, myRangeList)\n",
    "myRenderer.setMode(QgsGraduatedSymbolRenderer.Custom)               \n",
    "\n",
    "usa_layer.setRenderer(myRenderer)"
   ]
  },
  {
   "cell_type": "code",
   "execution_count": 16,
   "metadata": {},
   "outputs": [
    {
     "name": "stdout",
     "output_type": "stream",
     "text": [
      "Gerar mapa com 1000 por 162\n"
     ]
    }
   ],
   "source": [
    "xt = usa_layer.extent()\n",
    "# print(xt)\n",
    "width  = 1000\n",
    "height = int(width*xt.height()/xt.width())\n",
    "print(\"Gerar mapa com {} por {}\".format(width, height))\n",
    "\n",
    "options = QgsMapSettings()\n",
    "options.setLayers([usa_layer])\n",
    "options.setBackgroundColor(QColor(255, 255, 255))\n",
    "options.setOutputSize(QSize(width, height))\n",
    "options.setExtent(xt)\n",
    "           \n",
    "render = QgsMapRendererParallelJob(options)\n",
    "render.start()\n",
    "render.waitForFinished()\n",
    "\n",
    "image = render.renderedImage()"
   ]
  },
  {
   "cell_type": "code",
   "execution_count": 17,
   "metadata": {},
   "outputs": [],
   "source": [
    "from IPython.display import Image"
   ]
  },
  {
   "cell_type": "code",
   "execution_count": 18,
   "metadata": {},
   "outputs": [
    {
     "data": {
      "image/png": "[encoded data removed]",
      "text/plain": [
       "<IPython.core.display.Image object>"
      ]
     },
     "execution_count": 18,
     "metadata": {},
     "output_type": "execute_result"
    }
   ],
   "source": [
    "imgbuf = QBuffer()\n",
    "imgbuf.open( QIODevice.ReadWrite )\n",
    "image.save( imgbuf,\"PNG\" )\n",
    "Image( imgbuf.data() )"
   ]
  },
  {
   "cell_type": "code",
   "execution_count": 19,
   "metadata": {},
   "outputs": [],
   "source": [
    "qgs.exitQgis()"
   ]
  },
  {
   "cell_type": "code",
   "execution_count": null,
   "metadata": {},
   "outputs": [],
   "source": []
  }
 ],
 "metadata": {
  "kernelspec": {
   "display_name": "Python 3",
   "language": "python",
   "name": "python3"
  },
  "language_info": {
   "codemirror_mode": {
    "name": "ipython",
    "version": 3
   },
   "file_extension": ".py",
   "mimetype": "text/x-python",
   "name": "python",
   "nbconvert_exporter": "python",
   "pygments_lexer": "ipython3",
   "version": "3.7.0"
  },
  "latex_envs": {
   "LaTeX_envs_menu_present": true,
   "autoclose": false,
   "autocomplete": true,
   "bibliofile": "biblio.bib",
   "cite_by": "apalike",
   "current_citInitial": 1,
   "eqLabelWithNumbers": true,
   "eqNumInitial": 1,
   "hotkeys": {
    "equation": "Ctrl-E",
    "itemize": "Ctrl-I"
   },
   "labels_anchors": false,
   "latex_user_defs": false,
   "report_style_numbering": false,
   "user_envs_cfg": false
  }
 },
 "nbformat": 4,
 "nbformat_minor": 2
}
