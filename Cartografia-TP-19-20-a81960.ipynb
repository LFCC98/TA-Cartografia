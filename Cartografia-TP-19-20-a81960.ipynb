{
 "cells": [
  {
   "cell_type": "markdown",
   "metadata": {},
   "source": [
    "# Covid19 USA States"
   ]
  },
  {
   "cell_type": "code",
   "execution_count": 1,
   "metadata": {},
   "outputs": [],
   "source": [
    "import sys\n",
    "import os\n",
    "from qgis.core import *\n",
    "from qgis.PyQt.QtGui import *\n",
    "from qgis.PyQt.QtCore import *"
   ]
  },
  {
   "cell_type": "markdown",
   "metadata": {},
   "source": [
    "Starting qgis application"
   ]
  },
  {
   "cell_type": "code",
   "execution_count": 2,
   "metadata": {},
   "outputs": [],
   "source": [
    "QgsApplication.setPrefixPath(r'C:\\\\OSGeo4W64\\\\apps\\\\qgis', True)\n",
    "qgs = QgsApplication([], True)\n",
    "qgs.initQgis()\n",
    "sys.path.append(r'C:\\OSGeo4W64\\apps\\qgis\\python\\plugins')"
   ]
  },
  {
   "cell_type": "code",
   "execution_count": 3,
   "metadata": {},
   "outputs": [],
   "source": [
    "project = QgsProject.instance()"
   ]
  },
  {
   "cell_type": "markdown",
   "metadata": {},
   "source": [
    "Load shapefile of USA States"
   ]
  },
  {
   "cell_type": "code",
   "execution_count": 4,
   "metadata": {},
   "outputs": [],
   "source": [
    "# load map layer\n",
    "usa_path = \"/vsizip/data/usa_states_map/tl_2017_us_state.zip\"\n",
    "usa_layer = QgsVectorLayer(usa_path, 'USA States Map', 'ogr')\n",
    "\n",
    "if not usa_layer.isValid():\n",
    "    print(\"Failed to load the layer!\")"
   ]
  },
  {
   "cell_type": "markdown",
   "metadata": {},
   "source": [
    "Load csv file of covid19 data and create a vector layer"
   ]
  },
  {
   "cell_type": "code",
   "execution_count": 5,
   "metadata": {},
   "outputs": [],
   "source": [
    "# load covid-19 numbers 04-25-2020\n",
    "covid_path = \"file:///E:/TA-Cartografia/data/covid19-usa/04-25-2020.csv\"\n",
    "covid_layer = QgsVectorLayer(covid_path, 'covid19', 'delimitedtext')\n",
    "\n",
    "if not covid_layer.isValid():\n",
    "    print('Layer failed to load!')"
   ]
  },
  {
   "cell_type": "code",
   "execution_count": 6,
   "metadata": {},
   "outputs": [
    {
     "data": {
      "text/plain": [
       "<QgsMapLayer: 'covid19' (delimitedtext)>"
      ]
     },
     "execution_count": 6,
     "metadata": {},
     "output_type": "execute_result"
    }
   ],
   "source": [
    "project.addMapLayer(usa_layer)\n",
    "project.addMapLayer(covid_layer)"
   ]
  },
  {
   "cell_type": "markdown",
   "metadata": {},
   "source": [
    "Pie chart with the numbers of "
   ]
  },
  {
   "cell_type": "code",
   "execution_count": 7,
   "metadata": {},
   "outputs": [],
   "source": [
    "import matplotlib.pyplot as plt"
   ]
  },
  {
   "cell_type": "code",
   "execution_count": 8,
   "metadata": {},
   "outputs": [],
   "source": [
    "top = 5\n",
    "confirmed = {}\n",
    "\n",
    "total_id = 60\n",
    "states = QgsExpression(\"Province_State != 'Recovered'\")\n",
    "\n",
    "for feature in covid_layer.getFeatures(QgsFeatureRequest(states)):\n",
    "    confirmed[feature['Province_State']] = int(feature['Confirmed'])\n",
    "\n",
    "initial = confirmed.copy()"
   ]
  },
  {
   "cell_type": "code",
   "execution_count": 9,
   "metadata": {},
   "outputs": [],
   "source": [
    "total = sum(confirmed.values())\n",
    "confirmed = {k: v for k, v in sorted(confirmed.items(), key=lambda item: item[1], reverse=True)[:top]}\n",
    "confirmed['Remaining'] = total - sum(confirmed.values())"
   ]
  },
  {
   "cell_type": "code",
   "execution_count": 10,
   "metadata": {
    "scrolled": true
   },
   "outputs": [
    {
     "data": {
      "image/png": "[encoded data removed]",
      "text/plain": [
       "<Figure size 432x288 with 1 Axes>"
      ]
     },
     "metadata": {},
     "output_type": "display_data"
    }
   ],
   "source": [
    "plt.pie(confirmed.values(), shadow=True, labels=confirmed.keys(), autopct='%1.1f%%')\n",
    "plt.axis('equal')\n",
    "plt.show()"
   ]
  },
  {
   "cell_type": "code",
   "execution_count": 12,
   "metadata": {},
   "outputs": [
    {
     "data": {
      "text/plain": [
       "True"
      ]
     },
     "execution_count": 12,
     "metadata": {},
     "output_type": "execute_result"
    }
   ],
   "source": [
    "usaField = 'NAME'\n",
    "covidField = 'Province_State'\n",
    "joinObject = QgsVectorLayerJoinInfo()\n",
    "joinObject.setJoinFieldName(covidField)\n",
    "joinObject.setTargetFieldName(usaField)\n",
    "joinObject.setJoinLayerId(covid_layer.id())\n",
    "joinObject.setUsingMemoryCache(True)\n",
    "joinObject.setJoinLayer(covid_layer)\n",
    "usa_layer.addJoin(joinObject)"
   ]
  },
  {
   "cell_type": "markdown",
   "metadata": {},
   "source": [
    "Add new field to the layer, once covid19-usa_Confirmed attribute is a string"
   ]
  },
  {
   "cell_type": "code",
   "execution_count": 21,
   "metadata": {},
   "outputs": [
    {
     "name": "stderr",
     "output_type": "stream",
     "text": [
      "C:\\OSGEO4~1\\apps\\Python37\\lib\\site-packages\\ipykernel_launcher.py:20: DeprecationWarning: QgsGraduatedSymbolRenderer.setMode() is deprecated\n"
     ]
    }
   ],
   "source": [
    "target_field = 'covid19_Confirmed'\n",
    "myRangeList = []\n",
    "\n",
    "symbol = QgsSymbol.defaultSymbol(usa_layer.geometryType())     \n",
    "symbol.setColor(QColor(200, 20, 20))                              \n",
    "myRange = QgsRendererRange(0, 5000, symbol, 'Group 1')\n",
    "myRangeList.append(myRange)\n",
    "\n",
    "symbol = QgsSymbol.defaultSymbol(usa_layer.geometryType())\n",
    "symbol.setColor(QColor(150, 20, 20))\n",
    "myRange = QgsRendererRange(5001, 50000, symbol, 'Group 2')\n",
    "myRangeList.append(myRange)\n",
    "\n",
    "symbol = QgsSymbol.defaultSymbol(usa_layer.geometryType())\n",
    "symbol.setColor(QColor(100, 20, 20))\n",
    "myRange = QgsRendererRange(50001, 500000, symbol, 'Group 3')\n",
    "myRangeList.append(myRange)\n",
    "\n",
    "myRenderer = QgsGraduatedSymbolRenderer(target_field, myRangeList)\n",
    "myRenderer.setMode(QgsGraduatedSymbolRenderer.Custom)               \n",
    "\n",
    "usa_layer.setRenderer(myRenderer)"
   ]
  },
  {
   "cell_type": "code",
   "execution_count": 22,
   "metadata": {},
   "outputs": [
    {
     "name": "stdout",
     "output_type": "stream",
     "text": [
      "Gerar mapa com 1000 por 239\n"
     ]
    }
   ],
   "source": [
    "xt = usa_layer.extent()\n",
    "# print(xt)\n",
    "width  = 1000\n",
    "height = int(width*xt.height()/xt.width())\n",
    "print(\"Gerar mapa com {} por {}\".format(width, height))\n",
    "\n",
    "options = QgsMapSettings()\n",
    "options.setLayers([usa_layer])\n",
    "options.setBackgroundColor(QColor(255, 255, 255))\n",
    "options.setOutputSize(QSize(width, height))\n",
    "options.setExtent(xt)\n",
    "           \n",
    "render = QgsMapRendererParallelJob(options)\n",
    "render.start()\n",
    "render.waitForFinished()\n",
    "\n",
    "image = render.renderedImage()"
   ]
  },
  {
   "cell_type": "code",
   "execution_count": 23,
   "metadata": {},
   "outputs": [],
   "source": [
    "from IPython.display import Image"
   ]
  },
  {
   "cell_type": "code",
   "execution_count": 24,
   "metadata": {},
   "outputs": [
    {
     "data": {
      "image/png": "[encoded data removed]",
      "text/plain": [
       "<IPython.core.display.Image object>"
      ]
     },
     "execution_count": 24,
     "metadata": {},
     "output_type": "execute_result"
    }
   ],
   "source": [
    "imgbuf= QBuffer()\n",
    "imgbuf.open( QIODevice.ReadWrite )\n",
    "image.save( imgbuf,\"PNG\" )\n",
    "Image( imgbuf.data() )"
   ]
  },
  {
   "cell_type": "code",
   "execution_count": null,
   "metadata": {},
   "outputs": [],
   "source": [
    "qgs.exitQgis()"
   ]
  },
  {
   "cell_type": "code",
   "execution_count": null,
   "metadata": {},
   "outputs": [],
   "source": []
  }
 ],
 "metadata": {
  "kernelspec": {
   "display_name": "Python 3",
   "language": "python",
   "name": "python3"
  },
  "language_info": {
   "codemirror_mode": {
    "name": "ipython",
    "version": 3
   },
   "file_extension": ".py",
   "mimetype": "text/x-python",
   "name": "python",
   "nbconvert_exporter": "python",
   "pygments_lexer": "ipython3",
   "version": "3.7.0"
  },
  "latex_envs": {
   "LaTeX_envs_menu_present": true,
   "autoclose": false,
   "autocomplete": true,
   "bibliofile": "biblio.bib",
   "cite_by": "apalike",
   "current_citInitial": 1,
   "eqLabelWithNumbers": true,
   "eqNumInitial": 1,
   "hotkeys": {
    "equation": "Ctrl-E",
    "itemize": "Ctrl-I"
   },
   "labels_anchors": false,
   "latex_user_defs": false,
   "report_style_numbering": false,
   "user_envs_cfg": false
  }
 },
 "nbformat": 4,
 "nbformat_minor": 2
}
