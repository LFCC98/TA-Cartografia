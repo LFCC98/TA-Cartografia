{
 "cells": [
  {
   "cell_type": "markdown",
   "metadata": {},
   "source": [
    "# Covid19 USA States"
   ]
  },
  {
   "cell_type": "code",
   "execution_count": 1,
   "metadata": {},
   "outputs": [],
   "source": [
    "import sys\n",
    "import os\n",
    "from qgis.core import *\n",
    "from qgis.PyQt.QtGui import *\n",
    "from qgis.PyQt.QtCore import *"
   ]
  },
  {
   "cell_type": "markdown",
   "metadata": {},
   "source": [
    "Starting qgis application"
   ]
  },
  {
   "cell_type": "code",
   "execution_count": 2,
   "metadata": {},
   "outputs": [],
   "source": [
    "QgsApplication.setPrefixPath(r'C:\\\\OSGeo4W64\\\\apps\\\\qgis', True)\n",
    "qgs = QgsApplication([], True)\n",
    "qgs.initQgis()\n",
    "sys.path.append(r'C:\\OSGeo4W64\\apps\\qgis\\python\\plugins')"
   ]
  },
  {
   "cell_type": "code",
   "execution_count": 3,
   "metadata": {},
   "outputs": [],
   "source": [
    "project = QgsProject.instance()"
   ]
  },
  {
   "cell_type": "markdown",
   "metadata": {},
   "source": [
    "Load shapefile of USA States"
   ]
  },
  {
   "cell_type": "code",
   "execution_count": 4,
   "metadata": {},
   "outputs": [],
   "source": [
    "# load map layer\n",
    "usa_path = \"/vsizip/data/usa_states_map/tl_2017_us_state.zip\"\n",
    "usa_layer = QgsVectorLayer(usa_path, 'USA States Map', 'ogr')\n",
    "\n",
    "if not usa_layer.isValid():\n",
    "    print(\"Failed to load the layer!\")"
   ]
  },
  {
   "cell_type": "markdown",
   "metadata": {},
   "source": [
    "Load csv file of covid19 data and create a vector layer"
   ]
  },
  {
   "cell_type": "code",
   "execution_count": 5,
   "metadata": {},
   "outputs": [],
   "source": [
    "# load covid-19 numbers 04-25-2020\n",
    "covid_path = \"file:///E:/TA-Cartografia/data/covid19-usa/04-25-2020.csv\"\n",
    "covid_layer = QgsVectorLayer(covid_path, 'covid19-usa', 'delimitedtext')\n",
    "\n",
    "if not covid_layer.isValid():\n",
    "    print('Layer failed to load!')"
   ]
  },
  {
   "cell_type": "code",
   "execution_count": 6,
   "metadata": {},
   "outputs": [
    {
     "data": {
      "text/plain": [
       "<QgsMapLayer: 'covid19-usa' (delimitedtext)>"
      ]
     },
     "execution_count": 6,
     "metadata": {},
     "output_type": "execute_result"
    }
   ],
   "source": [
    "project.addMapLayer(usa_layer)\n",
    "project.addMapLayer(covid_layer)"
   ]
  },
  {
   "cell_type": "code",
   "execution_count": 8,
   "metadata": {
    "scrolled": true
   },
   "outputs": [
    {
     "name": "stdout",
     "output_type": "stream",
     "text": [
      "0 West Virginia 3 5\n",
      "1 Florida 3 5\n",
      "2 Illinois 2 3\n",
      "3 Minnesota 2 4\n",
      "4 Maryland 3 5\n",
      "5 Rhode Island 1 1\n",
      "6 Idaho 4 8\n",
      "7 New Hampshire 1 1\n",
      "8 North Carolina 3 5\n",
      "9 Vermont 1 1\n",
      "10 Connecticut 1 1\n",
      "11 Delaware 3 5\n",
      "12 New Mexico 4 8\n",
      "13 California 4 9\n",
      "14 New Jersey 1 2\n",
      "15 Wisconsin 2 3\n",
      "16 Oregon 4 9\n",
      "17 Nebraska 2 4\n",
      "18 Pennsylvania 1 2\n",
      "19 Washington 4 9\n",
      "20 Louisiana 3 7\n",
      "21 Georgia 3 5\n",
      "22 Alabama 3 6\n",
      "23 Utah 4 8\n",
      "24 Ohio 2 3\n",
      "25 Texas 3 7\n",
      "26 Colorado 4 8\n",
      "27 South Carolina 3 5\n",
      "28 Oklahoma 3 7\n",
      "29 Tennessee 3 6\n",
      "30 Wyoming 4 8\n",
      "31 Hawaii 4 9\n",
      "32 North Dakota 2 4\n",
      "33 Kentucky 3 6\n",
      "34 United States Virgin Islands 9 0\n",
      "35 Commonwealth of the Northern Mariana Islands 9 0\n",
      "36 Guam 9 0\n",
      "37 Maine 1 1\n",
      "38 New York 1 2\n",
      "39 Nevada 4 8\n",
      "40 Alaska 4 9\n",
      "41 American Samoa 9 0\n",
      "42 Michigan 2 3\n",
      "43 Arkansas 3 7\n",
      "44 Mississippi 3 6\n",
      "45 Missouri 2 4\n",
      "46 Montana 4 8\n",
      "47 Kansas 2 4\n",
      "48 Indiana 2 3\n",
      "49 Puerto Rico 9 0\n",
      "50 South Dakota 2 4\n",
      "51 Massachusetts 1 1\n",
      "52 Virginia 3 5\n",
      "53 District of Columbia 3 5\n",
      "54 Iowa 2 4\n",
      "55 Arizona 4 8\n"
     ]
    }
   ],
   "source": [
    "for feature in usa_layer.getFeatures():\n",
    "    print(feature.id(), feature['NAME'], feature['REGION'], feature['DIVISION'])"
   ]
  },
  {
   "cell_type": "code",
   "execution_count": 9,
   "metadata": {
    "scrolled": true
   },
   "outputs": [
    {
     "name": "stdout",
     "output_type": "stream",
     "text": [
      "2 Alabama 6026 209 5817.0\n",
      "3 Alaska 339 9 330.0\n",
      "4 American Samoa 0 0 NULL\n",
      "5 Arizona 6286 273 6013.0\n",
      "6 Arkansas 2911 48 2863.0\n",
      "7 California 42368 1689 40679.0\n",
      "8 Colorado 12968 684 12284.0\n",
      "9 Connecticut 24583 1865 22718.0\n",
      "10 Delaware 3576 112 3464.0\n",
      "11 Diamond Princess 49 0 49.0\n",
      "12 District of Columbia 3699 165 3534.0\n",
      "13 Florida 30839 1055 29784.0\n",
      "14 Georgia 23222 907 22315.0\n",
      "15 Grand Princess 103 3 100.0\n",
      "16 Guam 141 5 136.0\n",
      "17 Hawaii 605 13 592.0\n",
      "18 Idaho 1887 56 1831.0\n",
      "19 Illinois 41777 1875 39902.0\n",
      "20 Indiana 14399 786 13613.0\n",
      "21 Iowa 5092 112 4980.0\n",
      "22 Kansas 3135 120 3015.0\n",
      "23 Kentucky 3915 205 3710.0\n",
      "24 Louisiana 26512 1707 24805.0\n",
      "25 Maine 965 47 918.0\n",
      "26 Maryland 17766 875 16891.0\n",
      "27 Massachusetts 53348 2730 50618.0\n",
      "28 Michigan 37074 3155 33919.0\n",
      "29 Minnesota 3446 244 3202.0\n",
      "30 Mississippi 5718 221 5497.0\n",
      "31 Missouri 6935 281 6654.0\n",
      "32 Montana 445 14 431.0\n",
      "33 Nebraska 2719 50 2669.0\n",
      "34 Nevada 4539 205 4334.0\n",
      "35 New Hampshire 1797 53 1744.0\n",
      "36 New Jersey 105498 5914 99584.0\n",
      "37 New Mexico 2660 93 2567.0\n",
      "38 New York 282143 22009 260134.0\n",
      "39 North Carolina 8768 305 8463.0\n",
      "40 North Dakota 803 16 787.0\n",
      "41 Northern Mariana Islands 14 2 12.0\n",
      "42 Ohio 15587 711 14876.0\n",
      "43 Oklahoma 3194 194 3000.0\n",
      "44 Oregon 2253 87 2166.0\n",
      "45 Pennsylvania 41153 1793 39360.0\n",
      "46 Puerto Rico 1307 83 1224.0\n",
      "47 Rhode Island 7129 215 6914.0\n",
      "48 South Carolina 5253 166 5087.0\n",
      "49 South Dakota 2147 10 2137.0\n",
      "50 Tennessee 9189 177 9012.0\n",
      "51 Texas 24153 638 23515.0\n",
      "52 Utah 3948 41 3907.0\n",
      "53 Vermont 843 46 797.0\n",
      "54 Virgin Islands 55 3 52.0\n",
      "55 Virginia 12366 437 11929.0\n",
      "56 Washington 13319 737 12582.0\n",
      "57 West Virginia 1010 32 978.0\n",
      "58 Wisconsin 5687 266 5421.0\n",
      "59 Wyoming 491 7 484.0\n",
      "60 Recovered 0 0 -100372.0\n"
     ]
    }
   ],
   "source": [
    "for feature in covid_layer.getFeatures():\n",
    "    print(feature.id(), feature['Province_State'], feature['Confirmed'], feature['Deaths'], feature['Active'])"
   ]
  },
  {
   "cell_type": "code",
   "execution_count": null,
   "metadata": {},
   "outputs": [],
   "source": []
  }
 ],
 "metadata": {
  "kernelspec": {
   "display_name": "Python 3",
   "language": "python",
   "name": "python3"
  },
  "language_info": {
   "codemirror_mode": {
    "name": "ipython",
    "version": 3
   },
   "file_extension": ".py",
   "mimetype": "text/x-python",
   "name": "python",
   "nbconvert_exporter": "python",
   "pygments_lexer": "ipython3",
   "version": "3.7.0"
  },
  "latex_envs": {
   "LaTeX_envs_menu_present": true,
   "autoclose": false,
   "autocomplete": true,
   "bibliofile": "biblio.bib",
   "cite_by": "apalike",
   "current_citInitial": 1,
   "eqLabelWithNumbers": true,
   "eqNumInitial": 1,
   "hotkeys": {
    "equation": "Ctrl-E",
    "itemize": "Ctrl-I"
   },
   "labels_anchors": false,
   "latex_user_defs": false,
   "report_style_numbering": false,
   "user_envs_cfg": false
  }
 },
 "nbformat": 4,
 "nbformat_minor": 2
}
